{
 "cells": [
  {
   "cell_type": "code",
   "execution_count": null,
   "id": "7c1284bb",
   "metadata": {},
   "outputs": [],
   "source": [
    "import pandas as pd\n",
    "import psycopg2\n",
    "import bz2\n",
    "import os\n",
    "import matplotlib.pyplot as plt\n",
    "import seaborn as sns\n",
    "from io import StringIO"
   ]
  },
  {
   "cell_type": "code",
   "execution_count": null,
   "id": "39119903",
   "metadata": {},
   "outputs": [],
   "source": [
    "conn = psycopg2.connect(\n",
    "    host=\"localhost\",\n",
    "    dbname=\"postgres\",\n",
    "    user=\"postgres\",\n",
    "    password=\"kishiro2001\"  # substitua pela sua senha real\n",
    ")\n",
    "cursor = conn.cursor()"
   ]
  },
  {
   "cell_type": "code",
   "execution_count": null,
   "id": "719b0ebe",
   "metadata": {},
   "outputs": [],
   "source": [
    "create_flights = \"\"\"CREATE TABLE IF NOT EXISTS flights_2008 (\n",
    "    Year INT,\n",
    "    Month INT,\n",
    "    DayofMonth INT,\n",
    "    DayOfWeek INT,\n",
    "    DepTime INT,\n",
    "    CRSDepTime INT,\n",
    "    ArrTime INT,\n",
    "    CRSArrTime INT,\n",
    "    UniqueCarrier TEXT,\n",
    "    FlightNum INT,\n",
    "    TailNum TEXT,\n",
    "    ActualElapsedTime INT,\n",
    "    CRSElapsedTime INT,\n",
    "    AirTime INT,\n",
    "    ArrDelay INT,\n",
    "    DepDelay INT,\n",
    "    Origin TEXT,\n",
    "    Dest TEXT,\n",
    "    Distance INT,\n",
    "    TaxiIn INT,\n",
    "    TaxiOut INT,\n",
    "    Cancelled INT,\n",
    "    CancellationCode TEXT,\n",
    "    Diverted INT,\n",
    "    CarrierDelay FLOAT,\n",
    "    WeatherDelay FLOAT,\n",
    "    NASDelay FLOAT,\n",
    "    SecurityDelay FLOAT,\n",
    "    LateAircraftDelay FLOAT\n",
    ");\"\"\"\n",
    "create_airports = \"\"\"CREATE TABLE IF NOT EXISTS airports (\n",
    "    iata TEXT PRIMARY KEY,\n",
    "    airport TEXT,\n",
    "    city TEXT,\n",
    "    state TEXT,\n",
    "    country TEXT,\n",
    "    lat FLOAT,\n",
    "    long FLOAT\n",
    ");\n",
    "\"\"\"\n",
    "create_carriers = \"\"\"CREATE TABLE IF NOT EXISTS carriers (\n",
    "    Code TEXT PRIMARY KEY,\n",
    "    Description TEXT\n",
    ");\n",
    "\"\"\"\n",
    "create_planes = \"\"\"CREATE TABLE IF NOT EXISTS plane_data (\n",
    "    tailnum TEXT PRIMARY KEY,\n",
    "    type TEXT,\n",
    "    manufacturer TEXT,\n",
    "    issue_date TEXT,\n",
    "    model TEXT,\n",
    "    status TEXT,\n",
    "    aircraft_type TEXT,\n",
    "    engine_type TEXT,\n",
    "    year INT\n",
    ");\n",
    "\"\"\"\n",
    "\n",
    "cursor.execute(create_flights)\n",
    "cursor.execute(create_airports)\n",
    "cursor.execute(create_carriers)\n",
    "cursor.execute(create_planes)\n",
    "\n",
    "conn.commit()"
   ]
  },
  {
   "cell_type": "code",
   "execution_count": null,
   "id": "82b2993a",
   "metadata": {},
   "outputs": [],
   "source": [
    "# 1. 📥 Ler o arquivo CSV\n",
    "df = pd.read_csv(\"dataverse_files/carriers.csv\")"
   ]
  },
  {
   "cell_type": "code",
   "execution_count": null,
   "id": "4eac9276",
   "metadata": {},
   "outputs": [],
   "source": [
    "# 2. 🧽 Limpar os dados (remover espaços desnecessários)\n",
    "df[\"Code\"] = df[\"Code\"].str.strip()\n",
    "df[\"Description\"] = df[\"Description\"].str.strip()"
   ]
  },
  {
   "cell_type": "code",
   "execution_count": null,
   "id": "638c9600",
   "metadata": {},
   "outputs": [],
   "source": [
    "# 3.    🔧 Remove linhas inválidas (sem código)\n",
    "df = df.dropna(subset=[\"Code\"])\n",
    "\n",
    "cursor.execute(\"TRUNCATE TABLE carriers;\")\n",
    "conn.commit()"
   ]
  },
  {
   "cell_type": "code",
   "execution_count": null,
   "id": "cc4c8ab6",
   "metadata": {},
   "outputs": [],
   "source": [
    "# 4. 📤 Converter para CSV em memória e copiar\n",
    "csv_buffer = StringIO()\n",
    "df.to_csv(csv_buffer, index=False, header=False)\n",
    "csv_buffer.seek(0)\n",
    "\n",
    "cursor.copy_expert(\"COPY carriers FROM STDIN WITH CSV\", csv_buffer)\n",
    "conn.commit()"
   ]
  },
  {
   "cell_type": "code",
   "execution_count": null,
   "id": "a5408587",
   "metadata": {},
   "outputs": [
    {
     "name": "stdout",
     "output_type": "stream",
     "text": [
      "Importação de carriers.csv concluída com sucesso!\n"
     ]
    }
   ],
   "source": [
    "# 5. ✅ Fechar conexão\n",
    "cursor.close()\n",
    "conn.close()\n",
    "print(\"Importação de carriers.csv concluída com sucesso!\")"
   ]
  }
 ],
 "metadata": {
  "kernelspec": {
   "display_name": "venv",
   "language": "python",
   "name": "python3"
  },
  "language_info": {
   "codemirror_mode": {
    "name": "ipython",
    "version": 3
   },
   "file_extension": ".py",
   "mimetype": "text/x-python",
   "name": "python",
   "nbconvert_exporter": "python",
   "pygments_lexer": "ipython3",
   "version": "3.13.4"
  }
 },
 "nbformat": 4,
 "nbformat_minor": 5
}
